{
 "cells": [
  {
   "cell_type": "markdown",
   "metadata": {},
   "source": [
    "# Project Overview"
   ]
  },
  {
   "cell_type": "markdown",
   "metadata": {},
   "source": [
    "Matthew Morgan, B.S"
   ]
  },
  {
   "cell_type": "markdown",
   "metadata": {},
   "source": [
    "### Introduction"
   ]
  },
  {
   "cell_type": "markdown",
   "metadata": {},
   "source": [
    "Scraping Twitter for data relating to the field and profession of Genetic Counseling. \n",
    "<br>\n",
    "<br>A common problem in entering the genetic counseling field is lack of exposure and difficulty in finding that exposure to the field of genetic counseling. With many resources being scattered and posted on different channels, it is difficult to locate and combine everything. The goal of this project is to scrape links and information from the internet related to genetic counseling and pool those together as a conglomerate of resources for prospective genetic counseling students to use. This will hopefully provide a more convenient resource for finding exposure and opportunites in genetic counseling."
   ]
  },
  {
   "cell_type": "markdown",
   "metadata": {},
   "source": [
    "### Related Works"
   ]
  },
  {
   "cell_type": "markdown",
   "metadata": {},
   "source": [
    "### Methods"
   ]
  },
  {
   "cell_type": "markdown",
   "metadata": {},
   "source": [
    "**Focusing on Twitter:**\n",
    "<br>1: Look for common twitter tags that relate to genetic counseling\n",
    "<br>&emsp; a. Got event advertisements from 08/2020 - 07/2022 from a discord channel for prospective genetic counseling students.\n",
    "<br>&emsp; b. Filtered through these events to create a wordbank of common words to find genetic counseling events for prospective students.\n",
    "<br>&emsp; c. Used https://databasic.io/en/wordcounter/results/62cb4b55d16c580354d7dd92 to find most common words. Then analyzed to select the words that made &emsp;&emsp;up at least .05% of the word pool. These words were then cleaned further and used to search for common hashtags\n",
    "<br>&emsp; d. Scraped steps a-c because tweepy rate-limits the number of tweets that can be pulled at 900 tweets / 15minutes. Decided to just use the phrase &emsp;&emsp;\"prospective student genetic counseling\" and \"genetic counseling\" to search for tweet resources.\n",
    "<br>2: Use those tags to find posts that contain links or resources advertisements, can also look for events and webinars.\n",
    "<br>3: Analyze tweets for authenticity and usefullness using follower count, length of account, quality of interaction (positive or negative), and more.\n",
    "<br>4: create a sorted list of resources with descriptions and helpful information\n",
    "<br>5: (TBD) advertise the list (possibly as a website or a post somewhere? TBD)\n",
    "<br><br>Started by using Selenium Chromedriver to gather tweet data, but it soon became apparent that this would be alot of work and would require constant updates as both Chrome and Twitter constantly update HTML format and versions. Next the Tweepy Twitter API was attempted to be used and offered a much simpler way of gathering Twitter data.\n",
    "<br><br>Then realized I can use tweepy to just get the dataset of relevant tweets from twitter using hashtags as a form of a \"broad filter\" to get genetic counseling tweets. Can first search genetic counseling keywords to find most common hashtags to help find desired tweets. Can then use those hashtags to extract relevant tweets into a dataset that can be analyzed."
   ]
  },
  {
   "cell_type": "markdown",
   "metadata": {},
   "source": [
    "### Code"
   ]
  },
  {
   "cell_type": "code",
   "execution_count": 32,
   "metadata": {},
   "outputs": [],
   "source": [
    "#filter through GC events to find most common keywords\n",
    "\n",
    "filename = \"methods/commonWords.txt\"\n",
    "\n",
    "file = open(filename, \"r\")\n",
    "\n",
    "words = []\n",
    " \n",
    "# Traversing file line by line\n",
    "for line in file:\n",
    "    line = line.strip()\n",
    "    if (any(char.isdigit() for char in line) == False):\n",
    "        words.append(line)\n",
    "file.close();"
   ]
  },
  {
   "cell_type": "markdown",
   "metadata": {},
   "source": [
    "find hashtags"
   ]
  },
  {
   "cell_type": "code",
   "execution_count": 36,
   "metadata": {},
   "outputs": [],
   "source": [
    "import tweepy\n",
    "import config\n",
    "from collections import Counter"
   ]
  },
  {
   "cell_type": "code",
   "execution_count": 44,
   "metadata": {},
   "outputs": [
    {
     "name": "stdout",
     "output_type": "stream",
     "text": [
      "[(u'GeneChat', 21), (u'GeneticCounselors', 16), (u'GeneticCounseling', 6)]\n"
     ]
    }
   ],
   "source": [
    "#filter through GC events to find most common keywords\n",
    "api_key = config.api_key\n",
    "api_secrets = config.api_key_secret\n",
    "access_token = config.access_token\n",
    "access_secret = config.access_token_secret\n",
    "\n",
    "# Authenticate to Twitter\n",
    "auth = tweepy.OAuthHandler(api_key,api_secrets)\n",
    "auth.set_access_token(access_token,access_secret)\n",
    "api = tweepy.API(auth)\n",
    "\n",
    "#find and store genetic counseling tweets for prospective students\n",
    "def findCommonHashTags(keyWord):\n",
    "    hashtags = []\n",
    "    for tweet in tweepy.Cursor(api.search, q=keyWord, count=10).items():\n",
    "        hashtagList = tweet.entities.get('hashtags')\n",
    "        for i in range(len(hashtagList)):\n",
    "            hashtags.append(hashtagList[i]['text'])\n",
    "        pass\n",
    "    return hashtags\n",
    "\n",
    "hashtags = []\n",
    "searchTermList = ['genetic counseling','prospective student genetic counseling']\n",
    "for i in range(len(searchTermList)):\n",
    "    hashtags += findCommonHashTags(searchTermList[i])\n",
    "\n",
    "counter = Counter(hashtags)\n",
    "freqHashtags = counter.most_common(3)\n",
    "\n",
    "print(freqHashtags)"
   ]
  },
  {
   "cell_type": "markdown",
   "metadata": {},
   "source": [
    "Common results are: \"GeneChat\", \"GeneticCounselors\", \"GeneticCounseling\""
   ]
  },
  {
   "cell_type": "markdown",
   "metadata": {},
   "source": [
    "### Results"
   ]
  },
  {
   "cell_type": "markdown",
   "metadata": {},
   "source": [
    "### Discussion"
   ]
  },
  {
   "cell_type": "code",
   "execution_count": null,
   "metadata": {},
   "outputs": [],
   "source": []
  }
 ],
 "metadata": {
  "kernelspec": {
   "display_name": "Python 2",
   "language": "python",
   "name": "python2"
  },
  "language_info": {
   "codemirror_mode": {
    "name": "ipython",
    "version": 2
   },
   "file_extension": ".py",
   "mimetype": "text/x-python",
   "name": "python",
   "nbconvert_exporter": "python",
   "pygments_lexer": "ipython2",
   "version": "2.7.15"
  }
 },
 "nbformat": 4,
 "nbformat_minor": 5
}
