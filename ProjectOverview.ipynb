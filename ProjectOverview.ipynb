{
 "cells": [
  {
   "cell_type": "markdown",
   "id": "b1742776-e918-4b57-a6b8-8ed211530e70",
   "metadata": {},
   "source": [
    "# Project Overview"
   ]
  },
  {
   "cell_type": "markdown",
   "id": "ed8b43ca-e6b2-4b0d-930c-7853ad310d3e",
   "metadata": {},
   "source": [
    "Matthew Morgan, B.S"
   ]
  },
  {
   "cell_type": "markdown",
   "id": "ff29c4fb-ef60-41a9-a611-b08d2bb0e2be",
   "metadata": {},
   "source": [
    "### Introduction"
   ]
  },
  {
   "cell_type": "markdown",
   "id": "d712ec2f-c0d3-41ed-bc20-0c05651837f4",
   "metadata": {},
   "source": [
    "Scraping Twitter for data relating to the field and profession of Genetic Counseling. Goal is TBA."
   ]
  },
  {
   "cell_type": "markdown",
   "id": "3f860010-2c53-47f5-ae6e-c713097ddfd9",
   "metadata": {},
   "source": [
    "### Related Works"
   ]
  },
  {
   "cell_type": "markdown",
   "id": "c6ff5e1f-89bc-4ffb-b3af-3c1589dd26a9",
   "metadata": {},
   "source": [
    "### Methods"
   ]
  },
  {
   "cell_type": "markdown",
   "id": "96749860-93b3-4c30-a308-212698945bc3",
   "metadata": {},
   "source": [
    "### Results"
   ]
  },
  {
   "cell_type": "markdown",
   "id": "0194f297-644c-45d6-9586-b3abbc6842fe",
   "metadata": {},
   "source": [
    "### Discussion"
   ]
  },
  {
   "cell_type": "code",
   "execution_count": null,
   "id": "8c73c03c-ef6f-49f5-a9ac-5a336e1e1d49",
   "metadata": {},
   "outputs": [],
   "source": []
  }
 ],
 "metadata": {
  "kernelspec": {
   "display_name": "Python 3 (ipykernel)",
   "language": "python",
   "name": "python3"
  },
  "language_info": {
   "codemirror_mode": {
    "name": "ipython",
    "version": 3
   },
   "file_extension": ".py",
   "mimetype": "text/x-python",
   "name": "python",
   "nbconvert_exporter": "python",
   "pygments_lexer": "ipython3",
   "version": "3.9.6"
  }
 },
 "nbformat": 4,
 "nbformat_minor": 5
}
