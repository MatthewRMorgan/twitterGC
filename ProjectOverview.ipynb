{
 "cells": [
  {
   "cell_type": "markdown",
   "metadata": {},
   "source": [
    "# Project Overview"
   ]
  },
  {
   "cell_type": "markdown",
   "metadata": {},
   "source": [
    "Matthew Morgan, B.S"
   ]
  },
  {
   "cell_type": "markdown",
   "metadata": {},
   "source": [
    "### Introduction"
   ]
  },
  {
   "cell_type": "markdown",
   "metadata": {},
   "source": [
    "Scraping Twitter for data relating to the field and profession of Genetic Counseling. \n",
    "<br>\n",
    "<br>A common problem in entering the genetic counseling field is lack of exposure and difficulty in finding that exposure to the field of genetic counseling. With many resources being scattered and posted on different channels, it is difficult to locate and combine everything. The goal of this project is to scrape links and information from the internet related to genetic counseling and pool those together as a conglomerate of resources for prospective genetic counseling students to use. This will hopefully provide a more convenient resource for finding exposure and opportunites in genetic counseling."
   ]
  },
  {
   "cell_type": "markdown",
   "metadata": {},
   "source": [
    "### Related Works"
   ]
  },
  {
   "cell_type": "markdown",
   "metadata": {},
   "source": [
    "### Methods"
   ]
  },
  {
   "cell_type": "markdown",
   "metadata": {},
   "source": [
    "**Focusing on Twitter:**\n",
    "<br>1: Look for common twitter tags that relate to genetic counseling\n",
    "<br>&emsp; a. Got event advertisements from 08/2020 - 07/2022 from a discord channel for prospective genetic counseling students.\n",
    "<br>&emsp; b. Filtered through these events to create a wordbank of common words to find genetic counseling events for prospective students.\n",
    "<br>&emsp; c. Used https://databasic.io/en/wordcounter/results/62cb4b55d16c580354d7dd92 to find most common words. Then analyzed to select the words that made &emsp;&emsp;up at least .05% of the word pool. These words were then cleaned further and used to search for common hashtags\n",
    "<br>&emsp; d. Scraped steps a-c because tweepy rate-limits the number of tweets that can be pulled at 900 tweets / 15minutes. Decided to just use the phrase &emsp;&emsp;\"prospective student genetic counseling\" and \"genetic counseling\" to search for tweet resources.\n",
    "<br>2: Use those tags to find posts that contain links or resources advertisements, can also look for events and webinars.\n",
    "<br>3: Analyze tweets for authenticity and usefullness using follower count, length of account, quality of interaction (positive or negative), and more.\n",
    "<br>4: create a sorted list of resources with descriptions and helpful information\n",
    "<br>5: (TBD) advertise the list (possibly as a website or a post somewhere? TBD)\n",
    "<br><br>Started by using Selenium Chromedriver to gather tweet data, but it soon became apparent that this would be alot of work and would require constant updates as both Chrome and Twitter constantly update HTML format and versions. Next the Tweepy Twitter API was attempted to be used and offered a much simpler way of gathering Twitter data.\n",
    "<br><br>Then realized I can use tweepy to just get the dataset of relevant tweets from twitter using hashtags as a form of a \"broad filter\" to get genetic counseling tweets. Can first search genetic counseling keywords to find most common hashtags to help find desired tweets. Can then use those hashtags to extract relevant tweets into a dataset that can be analyzed."
   ]
  },
  {
   "cell_type": "markdown",
   "metadata": {},
   "source": [
    "### Code"
   ]
  },
  {
   "cell_type": "code",
   "execution_count": 36,
   "metadata": {},
   "outputs": [],
   "source": [
    "import tweepy\n",
    "import config\n",
    "from collections import Counter"
   ]
  },
  {
   "cell_type": "code",
   "execution_count": 32,
   "metadata": {},
   "outputs": [],
   "source": [
    "#filter through GC events to find most common keywords\n",
    "\n",
    "filename = \"methods/commonWords.txt\"\n",
    "\n",
    "file = open(filename, \"r\")\n",
    "\n",
    "words = []\n",
    " \n",
    "# Traversing file line by line\n",
    "for line in file:\n",
    "    line = line.strip()\n",
    "    if (any(char.isdigit() for char in line) == False):\n",
    "        words.append(line)\n",
    "file.close();"
   ]
  },
  {
   "cell_type": "markdown",
   "metadata": {},
   "source": [
    "find hashtags"
   ]
  },
  {
   "cell_type": "code",
   "execution_count": 44,
   "metadata": {},
   "outputs": [
    {
     "name": "stdout",
     "output_type": "stream",
     "text": [
      "[(u'GeneChat', 21), (u'GeneticCounselors', 16), (u'GeneticCounseling', 6)]\n"
     ]
    }
   ],
   "source": [
    "#filter through GC events to find most common keywords\n",
    "api_key = config.api_key\n",
    "api_secrets = config.api_key_secret\n",
    "access_token = config.access_token\n",
    "access_secret = config.access_token_secret\n",
    "\n",
    "# Authenticate to Twitter\n",
    "auth = tweepy.OAuthHandler(api_key,api_secrets)\n",
    "auth.set_access_token(access_token,access_secret)\n",
    "api = tweepy.API(auth)\n",
    "\n",
    "#find and store genetic counseling tweets for prospective students\n",
    "def findCommonHashTags(keyWord):\n",
    "    hashtags = []\n",
    "    for tweet in tweepy.Cursor(api.search, q=keyWord, count=10).items():\n",
    "        hashtagList = tweet.entities.get('hashtags')\n",
    "        for i in range(len(hashtagList)):\n",
    "            hashtags.append(hashtagList[i]['text'])\n",
    "        pass\n",
    "    return hashtags\n",
    "\n",
    "hashtags = []\n",
    "searchTermList = ['genetic counseling','prospective student genetic counseling']\n",
    "for i in range(len(searchTermList)):\n",
    "    hashtags += findCommonHashTags(searchTermList[i])\n",
    "\n",
    "counter = Counter(hashtags)\n",
    "freqHashtags = counter.most_common(3)\n",
    "\n",
    "print(freqHashtags)"
   ]
  },
  {
   "cell_type": "markdown",
   "metadata": {},
   "source": [
    "Common results are: \"GeneChat\", \"GeneticCounselors\", \"GeneticCounseling\""
   ]
  },
  {
   "cell_type": "code",
   "execution_count": 68,
   "metadata": {},
   "outputs": [],
   "source": [
    "def getResources(keyWord):\n",
    "    links = []\n",
    "    events = []\n",
    "    for tweet in tweepy.Cursor(api.search, q=keyWord, count=100).items():\n",
    "        events.append(tweet.text) #get text to thrift through?\n",
    "        linkList = tweet.entities.get('urls')\n",
    "        for i in range(len(linkList)):#cant get unwound url without enterprise api\n",
    "            links.append(linkList[i]['url'])#can get html title and description\n",
    "    resources = {'links':links,'events':events}\n",
    "    return resources\n",
    "\n",
    "resources = []\n",
    "searchTermList = ['#GeneChat', \"#GeneticCounselors\", \"#GeneticCounseling\"]\n",
    "for i in range(len(searchTermList)):\n",
    "    resources.append(getResources(searchTermList[i]))"
   ]
  },
  {
   "cell_type": "code",
   "execution_count": 63,
   "metadata": {},
   "outputs": [],
   "source": [
    "events = []\n",
    "links = []\n",
    "for i in range(len(resources)):\n",
    "    events += resources[i]['events']\n",
    "    links += resources[i]['links']"
   ]
  },
  {
   "cell_type": "code",
   "execution_count": 64,
   "metadata": {},
   "outputs": [
    {
     "data": {
      "text/plain": [
       "[u'https://t.co/vN3bGiudz6',\n",
       " u'https://t.co/gkBsNd0Cd3',\n",
       " u'https://t.co/zRBbPBQmfs',\n",
       " u'https://t.co/tdY1fMUNOa',\n",
       " u'https://t.co/FOsJD1t6v6',\n",
       " u'https://t.co/NueGWo1GNr',\n",
       " u'https://t.co/5vLcYUbojq',\n",
       " u'https://t.co/yy3tZqUXBI',\n",
       " u'https://t.co/koMHvuFnu5',\n",
       " u'https://t.co/4CUhqSkjom',\n",
       " u'https://t.co/Isco6LE0K4',\n",
       " u'https://t.co/sokycybG2e',\n",
       " u'https://t.co/rCMMIps0MJ',\n",
       " u'https://t.co/JhPoyp0XyM',\n",
       " u'https://t.co/1N2XailCdL',\n",
       " u'https://t.co/1N2XailCdL',\n",
       " u'https://t.co/P61kKUBn45',\n",
       " u'https://t.co/WbDQ5SJwPv',\n",
       " u'https://t.co/8cDKlFqGLw',\n",
       " u'https://t.co/UQHWqGHjMZ',\n",
       " u'https://t.co/E70Usdg8Q9',\n",
       " u'https://t.co/uZY9fnyI4j',\n",
       " u'https://t.co/psRy8fT8px',\n",
       " u'https://t.co/a8rDO4sfX1',\n",
       " u'https://t.co/BFOMmU6sNm',\n",
       " u'https://t.co/evlCslmePW',\n",
       " u'https://t.co/dANG92JPk4',\n",
       " u'https://t.co/rdt2he7xhM',\n",
       " u'https://t.co/7kmz5WWkIn',\n",
       " u'https://t.co/tZgnVUjBDm',\n",
       " u'https://t.co/13XRzjTf6j',\n",
       " u'https://t.co/SD86EkUu9E',\n",
       " u'https://t.co/QM8Z2T3O9j',\n",
       " u'https://t.co/UuxatsufzZ',\n",
       " u'https://t.co/UuxatsufzZ',\n",
       " u'https://t.co/WROqvRQupQ',\n",
       " u'https://t.co/XnM3tc58Rf',\n",
       " u'https://t.co/M9I3PPFmMq',\n",
       " u'https://t.co/NUykDdB0CR',\n",
       " u'https://t.co/vptC62zoAd',\n",
       " u'https://t.co/jkBvA4GMaJ',\n",
       " u'https://t.co/eZQd8uxrku',\n",
       " u'https://t.co/4JZdapb2ek',\n",
       " u'https://t.co/nIqZ3MqYZU',\n",
       " u'https://t.co/Mxpqqyvd6q',\n",
       " u'https://t.co/NVAeJ8WL9R',\n",
       " u'https://t.co/0GQcoN3f9K',\n",
       " u'https://t.co/7E2QXMPs5r',\n",
       " u'https://t.co/9AEN8Bulj7',\n",
       " u'https://t.co/zVYc7QymBM',\n",
       " u'https://t.co/Iuw8w6zCMV',\n",
       " u'https://t.co/mBIqJdJO4D',\n",
       " u'https://t.co/5TGGQqyvYj',\n",
       " u'https://t.co/ibFwMd8o5R',\n",
       " u'https://t.co/MW6juZxaAM',\n",
       " u'https://t.co/TIGnvZH8dt',\n",
       " u'https://t.co/lHMhBgPgB1',\n",
       " u'https://t.co/EwCrQziiuH',\n",
       " u'https://t.co/rWtwy7JAxW',\n",
       " u'https://t.co/v1TuvxkgTz',\n",
       " u'https://t.co/2pv5ft0NpR',\n",
       " u'https://t.co/gi8K5CrbYO',\n",
       " u'https://t.co/HKXMev9pQY',\n",
       " u'https://t.co/TIhxCmOTXi',\n",
       " u'https://t.co/kxdnOHNQUY',\n",
       " u'https://t.co/F1DDUFZFY1',\n",
       " u'https://t.co/xKsfwUH8Ov',\n",
       " u'https://t.co/tf0cHtGfuC',\n",
       " u'https://t.co/FS8zbNQjDW',\n",
       " u'https://t.co/xr9wpZmTI3',\n",
       " u'https://t.co/vYe7pmrTYF',\n",
       " u'https://t.co/Vl1iBCf3Eg',\n",
       " u'https://t.co/zq0wGsYmIS',\n",
       " u'https://t.co/r5iU9fyCy5',\n",
       " u'https://t.co/gjAPcxQpNF',\n",
       " u'https://t.co/iC1p8ZBc9j',\n",
       " u'https://t.co/q1Q3xCpAqM',\n",
       " u'https://t.co/oneBBI3s16',\n",
       " u'https://t.co/KxiANfMTVo',\n",
       " u'https://t.co/fT0V67yaDx',\n",
       " u'https://t.co/Eyi2tBrqeo',\n",
       " u'https://t.co/nQiTwPETfa',\n",
       " u'https://t.co/terOueyDYs',\n",
       " u'https://t.co/ukLHjTzS8n',\n",
       " u'https://t.co/02FMUd2hoj',\n",
       " u'https://t.co/rZlbJSJicy',\n",
       " u'https://t.co/XY0BtVQtRL',\n",
       " u'https://t.co/7aQJhhVnao',\n",
       " u'https://t.co/sWAToKK4fQ',\n",
       " u'https://t.co/8tkY2IDfd1',\n",
       " u'https://t.co/QVwKAE9Rdd',\n",
       " u'https://t.co/nOI9EdQHAq',\n",
       " u'https://t.co/XWhsZfa0LT',\n",
       " u'https://t.co/sIFG0KAoOK',\n",
       " u'https://t.co/lcBAGO0ZCX',\n",
       " u'https://t.co/ax8AFXxpZm',\n",
       " u'https://t.co/AKGGsCOkBy',\n",
       " u'https://t.co/s1HflUACdv',\n",
       " u'https://t.co/gLhZ2Og33b',\n",
       " u'https://t.co/zaktee3TXt',\n",
       " u'https://t.co/M0AgJc8Pgh',\n",
       " u'https://t.co/MYG8PJ5Psa',\n",
       " u'https://t.co/kBOFc8OlDn',\n",
       " u'https://t.co/5fJxhDS54V',\n",
       " u'https://t.co/da5vhhMDYd',\n",
       " u'https://t.co/Pt7SpktyE4',\n",
       " u'https://t.co/w16j7Yebxl',\n",
       " u'https://t.co/FPWiXBIUmV',\n",
       " u'https://t.co/Cvmpgm3r5n',\n",
       " u'https://t.co/JBEpkliS3i',\n",
       " u'https://t.co/e0BaF8ZMky',\n",
       " u'https://t.co/GSgYgZvd3s',\n",
       " u'https://t.co/S0msgGkV5S',\n",
       " u'https://t.co/TpnN3phzHW',\n",
       " u'https://t.co/fYqKDyLlaj',\n",
       " u'https://t.co/QkoP95kscu',\n",
       " u'https://t.co/V28YqTOp67',\n",
       " u'https://t.co/vXRRDfXVvC',\n",
       " u'https://t.co/IW75p7eKgv',\n",
       " u'https://t.co/MHPAai7Y4b',\n",
       " u'https://t.co/GS55CeXsSs',\n",
       " u'https://t.co/lq9YfOlbNu',\n",
       " u'https://t.co/ghvVwGCX3s',\n",
       " u'https://t.co/dNxN6QlCZN',\n",
       " u'https://t.co/Wgbj8ixSmu',\n",
       " u'https://t.co/BmCFBGo8Ek',\n",
       " u'https://t.co/ncZULrFeNf',\n",
       " u'https://t.co/dNGkPvkwz4',\n",
       " u'https://t.co/PbdRU84yog',\n",
       " u'https://t.co/NoFrsjZDJl',\n",
       " u'https://t.co/eBIUO5diOS',\n",
       " u'https://t.co/fYqKDyLlaj',\n",
       " u'https://t.co/Lut8LvqPpJ',\n",
       " u'https://t.co/SgkFwjYCB0',\n",
       " u'https://t.co/fhhFmplCAZ',\n",
       " u'https://t.co/S66Hdu0Bs9',\n",
       " u'https://t.co/hotOTXtqUL',\n",
       " u'https://t.co/tNJ5HTB8Hs',\n",
       " u'https://t.co/jkBvA4GMaJ',\n",
       " u'https://t.co/DU4THdcoJr',\n",
       " u'https://t.co/5vLcYUbojq',\n",
       " u'https://t.co/Isco6LE0K4',\n",
       " u'https://t.co/NI5cylk0Dz',\n",
       " u'https://t.co/uZY9fnyI4j',\n",
       " u'https://t.co/NEMKQxlUBd',\n",
       " u'https://t.co/QM8Z2T3O9j',\n",
       " u'https://t.co/DU4THdcoJr',\n",
       " u'https://t.co/mBIqJdJO4D',\n",
       " u'https://t.co/5TGGQqyvYj',\n",
       " u'https://t.co/5xqkYhKuMH',\n",
       " u'https://t.co/MBRdhltX7d',\n",
       " u'https://t.co/02FMUd2hoj',\n",
       " u'https://t.co/da5vhhMDYd',\n",
       " u'https://t.co/ymXEqRn2V6',\n",
       " u'https://t.co/iUcf9G9GRX',\n",
       " u'https://t.co/dlZgRyTzoH']"
      ]
     },
     "execution_count": 64,
     "metadata": {},
     "output_type": "execute_result"
    }
   ],
   "source": [
    "links"
   ]
  },
  {
   "cell_type": "markdown",
   "metadata": {},
   "source": [
    "### Results"
   ]
  },
  {
   "cell_type": "markdown",
   "metadata": {},
   "source": [
    "### Discussion"
   ]
  },
  {
   "cell_type": "code",
   "execution_count": null,
   "metadata": {},
   "outputs": [],
   "source": []
  }
 ],
 "metadata": {
  "kernelspec": {
   "display_name": "Python 2",
   "language": "python",
   "name": "python2"
  },
  "language_info": {
   "codemirror_mode": {
    "name": "ipython",
    "version": 2
   },
   "file_extension": ".py",
   "mimetype": "text/x-python",
   "name": "python",
   "nbconvert_exporter": "python",
   "pygments_lexer": "ipython2",
   "version": "2.7.15"
  }
 },
 "nbformat": 4,
 "nbformat_minor": 5
}
